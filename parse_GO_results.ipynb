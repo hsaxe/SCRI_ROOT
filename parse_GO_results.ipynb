{
 "cells": [
  {
   "cell_type": "code",
   "execution_count": 9,
   "metadata": {},
   "outputs": [
    {
     "data": {
      "text/plain": [
       "'c:\\\\Users\\\\hsaxe\\\\OneDrive\\\\Documents\\\\ALAB\\\\GitHub\\\\SCRI_ROOT_2'"
      ]
     },
     "execution_count": 9,
     "metadata": {},
     "output_type": "execute_result"
    }
   ],
   "source": [
    "import os\n",
    "import pandas as pd\n",
    "import json\n",
    "\n",
    "os.getcwd()"
   ]
  },
  {
   "cell_type": "code",
   "execution_count": 8,
   "metadata": {},
   "outputs": [
    {
     "data": {
      "text/html": [
       "<div>\n",
       "<style scoped>\n",
       "    .dataframe tbody tr th:only-of-type {\n",
       "        vertical-align: middle;\n",
       "    }\n",
       "\n",
       "    .dataframe tbody tr th {\n",
       "        vertical-align: top;\n",
       "    }\n",
       "\n",
       "    .dataframe thead th {\n",
       "        text-align: right;\n",
       "    }\n",
       "</style>\n",
       "<table border=\"1\" class=\"dataframe\">\n",
       "  <thead>\n",
       "    <tr style=\"text-align: right;\">\n",
       "      <th></th>\n",
       "      <th>overrepresentation</th>\n",
       "    </tr>\n",
       "  </thead>\n",
       "  <tbody>\n",
       "    <tr>\n",
       "      <th>annotation_type</th>\n",
       "      <td>GO biological process complete</td>\n",
       "    </tr>\n",
       "    <tr>\n",
       "      <th>correction</th>\n",
       "      <td>FDR</td>\n",
       "    </tr>\n",
       "    <tr>\n",
       "      <th>data_version_release_date</th>\n",
       "      <td>GO Ontology database DOI:  10.5281/zenodo.6799...</td>\n",
       "    </tr>\n",
       "    <tr>\n",
       "      <th>group</th>\n",
       "      <td>[{'result': [{'input_list': {'number_in_list':...</td>\n",
       "    </tr>\n",
       "    <tr>\n",
       "      <th>reference</th>\n",
       "      <td>{'reference_organism': 'Juglans regia'}</td>\n",
       "    </tr>\n",
       "    <tr>\n",
       "      <th>test_type</th>\n",
       "      <td>FISHER</td>\n",
       "    </tr>\n",
       "    <tr>\n",
       "      <th>tool_release_date</th>\n",
       "      <td>20221013</td>\n",
       "    </tr>\n",
       "    <tr>\n",
       "      <th>upload_lists</th>\n",
       "      <td>{'input_list': {'organism': 'Juglans regia', '...</td>\n",
       "    </tr>\n",
       "  </tbody>\n",
       "</table>\n",
       "</div>"
      ],
      "text/plain": [
       "                                                          overrepresentation\n",
       "annotation_type                               GO biological process complete\n",
       "correction                                                               FDR\n",
       "data_version_release_date  GO Ontology database DOI:  10.5281/zenodo.6799...\n",
       "group                      [{'result': [{'input_list': {'number_in_list':...\n",
       "reference                            {'reference_organism': 'Juglans regia'}\n",
       "test_type                                                             FISHER\n",
       "tool_release_date                                                   20221013\n",
       "upload_lists               {'input_list': {'organism': 'Juglans regia', '..."
      ]
     },
     "execution_count": 8,
     "metadata": {},
     "output_type": "execute_result"
    }
   ],
   "source": [
    "df = pd.read_json('GOresults/raw/CG_BP.json')\n",
    "\n",
    "#df.head(15)\n",
    "\n",
    "df"
   ]
  },
  {
   "cell_type": "code",
   "execution_count": 40,
   "metadata": {},
   "outputs": [
    {
     "data": {
      "text/plain": [
       "0     [{'input_list': {'number_in_list': 12, 'fold_e...\n",
       "1     [{'input_list': {'number_in_list': 11, 'fold_e...\n",
       "2     [{'input_list': {'number_in_list': 10, 'fold_e...\n",
       "3     [{'input_list': {'number_in_list': 9, 'fold_en...\n",
       "4                                                   NaN\n",
       "5                                                   NaN\n",
       "6                                                   NaN\n",
       "7     [{'input_list': {'number_in_list': 8, 'fold_en...\n",
       "8     [{'input_list': {'number_in_list': 15, 'fold_e...\n",
       "9                                                   NaN\n",
       "10    [{'input_list': {'number_in_list': 7, 'fold_en...\n",
       "11    [{'input_list': {'number_in_list': 7, 'fold_en...\n",
       "12    [{'input_list': {'number_in_list': 7, 'fold_en...\n",
       "13    [{'input_list': {'number_in_list': 27, 'fold_e...\n",
       "14    [{'input_list': {'number_in_list': 13, 'fold_e...\n",
       "15                                                  NaN\n",
       "16                                                  NaN\n",
       "17    [{'input_list': {'number_in_list': 10, 'fold_e...\n",
       "18                                                  NaN\n",
       "19    [{'input_list': {'number_in_list': 14, 'fold_e...\n",
       "20                                                  NaN\n",
       "21                                                  NaN\n",
       "22                                                  NaN\n",
       "23    [{'input_list': {'number_in_list': 23, 'fold_e...\n",
       "24                                                  NaN\n",
       "25    [{'input_list': {'number_in_list': 17, 'fold_e...\n",
       "26    [{'input_list': {'number_in_list': 11, 'fold_e...\n",
       "27    [{'input_list': {'number_in_list': 19, 'fold_e...\n",
       "28    [{'input_list': {'number_in_list': 4, 'fold_en...\n",
       "29    [{'input_list': {'number_in_list': 2, 'fold_en...\n",
       "30    [{'input_list': {'number_in_list': 1, 'fold_en...\n",
       "Name: result, dtype: object"
      ]
     },
     "execution_count": 40,
     "metadata": {},
     "output_type": "execute_result"
    }
   ],
   "source": [
    "with open('GOresults/raw/CG_BP.json', 'r') as f:\n",
    "    data = json.loads(f.read())\n",
    "\n",
    "df_nested = pd.json_normalize(data['overrepresentation']['group'])\n",
    "\n",
    "df_nested['result']"
   ]
  },
  {
   "cell_type": "code",
   "execution_count": 41,
   "metadata": {},
   "outputs": [
    {
     "ename": "KeyError",
     "evalue": "'input_list'",
     "output_type": "error",
     "traceback": [
      "\u001b[1;31m---------------------------------------------------------------------------\u001b[0m",
      "\u001b[1;31mKeyError\u001b[0m                                  Traceback (most recent call last)",
      "Cell \u001b[1;32mIn[41], line 1\u001b[0m\n\u001b[1;32m----> 1\u001b[0m df_nested2 \u001b[39m=\u001b[39m pd\u001b[39m.\u001b[39mjson_normalize(data[\u001b[39m'\u001b[39;49m\u001b[39minput_list\u001b[39;49m\u001b[39m'\u001b[39;49m])\n\u001b[0;32m      3\u001b[0m df_nested2\n",
      "\u001b[1;31mKeyError\u001b[0m: 'input_list'"
     ]
    }
   ],
   "source": [
    "df_nested2 = pd.json_normalize(data['input_list'])\n",
    "\n",
    "df_nested2"
   ]
  }
 ],
 "metadata": {
  "kernelspec": {
   "display_name": "Python 3",
   "language": "python",
   "name": "python3"
  },
  "language_info": {
   "codemirror_mode": {
    "name": "ipython",
    "version": 3
   },
   "file_extension": ".py",
   "mimetype": "text/x-python",
   "name": "python",
   "nbconvert_exporter": "python",
   "pygments_lexer": "ipython3",
   "version": "3.10.11"
  },
  "orig_nbformat": 4
 },
 "nbformat": 4,
 "nbformat_minor": 2
}
